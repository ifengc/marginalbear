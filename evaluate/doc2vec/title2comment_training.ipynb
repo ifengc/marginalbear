{
 "cells": [
  {
   "cell_type": "code",
   "execution_count": 1,
   "metadata": {
    "collapsed": true
   },
   "outputs": [],
   "source": [
    "from gensim.models.doc2vec import TaggedDocument, Doc2Vec, Word2Vec\n",
    "import os\n",
    "import collections\n",
    "import smart_open\n",
    "import random\n",
    "import subprocess as sp"
   ]
  },
  {
   "cell_type": "code",
   "execution_count": 2,
   "metadata": {
    "collapsed": true
   },
   "outputs": [],
   "source": [
    "def read_corpus(fname, sample=1, offset=1, delimiter='\\t', drop=False, dropth=0.1):\n",
    "    sample = max(int(sample), 1)\n",
    "    offset = max(int(offset), 0)\n",
    "    with open(fname, 'r') as f:\n",
    "        for i, line in enumerate(f):\n",
    "            if drop:\n",
    "                if random.random() <= dropth:\n",
    "                    continue\n",
    "                \n",
    "            if (i + offset) % sample == 0:\n",
    "                try:\n",
    "                    tag, sent = line.split(delimiter)\n",
    "                    # For training data, add tags\n",
    "                    yield TaggedDocument(sent.strip().split(), [tag])\n",
    "                except Exception as err:\n",
    "                    print(i, line)\n",
    "                    continue"
   ]
  },
  {
   "cell_type": "code",
   "execution_count": 3,
   "metadata": {
    "collapsed": true
   },
   "outputs": [],
   "source": [
    "model = Doc2Vec(\n",
    "    size=50, window=10,\n",
    "    negative=10,\n",
    "    dm_concat=1, dbow_words=1,\n",
    "    min_count=5, sample=1e-5,\n",
    "    workers=6\n",
    ")"
   ]
  },
  {
   "cell_type": "code",
   "execution_count": 5,
   "metadata": {
    "collapsed": true
   },
   "outputs": [],
   "source": [
    "file_tokenized = 'dump/doc0909.csv'\n",
    "train_gr = read_corpus(file_tokenized, sample=1, offset=0)"
   ]
  },
  {
   "cell_type": "code",
   "execution_count": 5,
   "metadata": {
    "collapsed": true
   },
   "outputs": [],
   "source": [
    "model.build_vocab(train_gr)"
   ]
  },
  {
   "cell_type": "code",
   "execution_count": 6,
   "metadata": {},
   "outputs": [
    {
     "name": "stdout",
     "output_type": "stream",
     "text": [
      "Doc2Vec(dm/c,d50,n10,w10,mc5,s1e-05,t6)\n",
      "12869583\n"
     ]
    }
   ],
   "source": [
    "print(model)\n",
    "print(model.corpus_count)"
   ]
  },
  {
   "cell_type": "code",
   "execution_count": 3,
   "metadata": {
    "collapsed": true
   },
   "outputs": [],
   "source": [
    "model = Doc2Vec.load('/var/local/marginalbear/doc2vec/title2comment.model')"
   ]
  },
  {
   "cell_type": "code",
   "execution_count": 6,
   "metadata": {},
   "outputs": [
    {
     "name": "stdout",
     "output_type": "stream",
     "text": [
      "CPU times: user 1h 20min 33s, sys: 5min 42s, total: 1h 26min 15s\n",
      "Wall time: 48min 37s\n"
     ]
    }
   ],
   "source": [
    "%%time\n",
    "for epoch in range(10):\n",
    "    model.min_alpha = model.alpha\n",
    "    tr = read_corpus(file_tokenized, sample=1, offset=0, drop=True, dropth=0.5)\n",
    "    model.train(tr, total_examples=model.corpus_count, epochs=1)\n",
    "    model.alpha *= 0.99"
   ]
  },
  {
   "cell_type": "code",
   "execution_count": 61,
   "metadata": {
    "collapsed": true
   },
   "outputs": [],
   "source": [
    "model.save('title2comment.model')"
   ]
  },
  {
   "cell_type": "code",
   "execution_count": 64,
   "metadata": {},
   "outputs": [
    {
     "name": "stdout",
     "output_type": "stream",
     "text": [
      "@ [('吳彥祖', 0.8209210634231567), ('郭富城', 0.8141673803329468), ('城武', 0.7772936224937439)]\n",
      "@ [('宅宅', 0.7863831520080566), ('魯宅', 0.7454927563667297), ('臭宅', 0.7242928147315979)]\n",
      "@ [('姐姐', 0.8099322319030762), ('弟弟', 0.8085435032844543), ('姊姊', 0.7342876195907593)]\n",
      "@ [('鈕承澤', 0.8596559762954712), ('豆導會', 0.8199543356895447), ('麥可貝', 0.8190062642097473)]\n",
      "@ [('好久不見', 0.8013579249382019), ('您好', 0.7441970705986023), ('午安', 0.7305626273155212)]\n",
      "@ [('馬英九', 0.7975667119026184), ('阿扁', 0.7783585786819458), ('李登輝', 0.7701988816261292)]\n"
     ]
    }
   ],
   "source": [
    "print('@', model.most_similar(['金城武'], topn=3))\n",
    "print('@', model.most_similar(['肥宅'], topn=3))\n",
    "print('@', model.most_similar(['妹妹'], topn=3))\n",
    "print('@', model.most_similar(['豆導'], topn=3))\n",
    "print('@', model.most_similar(['安安'], topn=3))\n",
    "print('@', model.most_similar(['陳水扁'], topn=3))\n",
    "\n"
   ]
  },
  {
   "cell_type": "code",
   "execution_count": 63,
   "metadata": {},
   "outputs": [
    {
     "name": "stdout",
     "output_type": "stream",
     "text": [
      "481100 0.7081737518310547\n",
      "481100\t哪部\n",
      "481100\t你 沒有 姐姐 懂\n",
      "481100\t誰 喇\n",
      "481100\t咪 智障\n",
      "481100\t有沒有 醬 八卦\n",
      "158913 0.7035507559776306\n",
      "158913\t人渣 到處 劈 腿 滾\n",
      "158913\t姐姐 姐姐 姐姐 姐姐\n",
      "158913\t妹妹 qq\n",
      "158913\t這 一 回合\n"
     ]
    }
   ],
   "source": [
    "# sent = '館長 和 朱雪璋 pk 誰 贏'\n",
    "# sent = '姐姐 我 喜歡 你'\n",
    "inferred_vector = model.infer_vector(sent.split(), steps=100)\n",
    "# print(inferred_vector)\n",
    "most_similar = model.docvecs.most_similar([inferred_vector], topn=2)\n",
    "for tag, score in most_similar:\n",
    "    cmd = 'grep -P \"^{tag}\\t\" /var/local/marginalbear/dump/doc0909.csv'.format(tag=tag)\n",
    "    print(tag, score)\n",
    "    print(sp.run(cmd, shell=True, stdout=sp.PIPE).stdout.decode('utf-8').strip())\n"
   ]
  },
  {
   "cell_type": "code",
   "execution_count": 62,
   "metadata": {},
   "outputs": [
    {
     "data": {
      "text/plain": [
       "0.98728217607809743"
      ]
     },
     "execution_count": 62,
     "metadata": {},
     "output_type": "execute_result"
    }
   ],
   "source": [
    "sent1 = '異形 讓 豆導 來 導 會 怎樣 ？'.split()\n",
    "sent2 = '豆導 拍 異形 會 怎樣 ？'.split()\n",
    "model.docvecs.similarity_unseen_docs(model, sent1, sent2, steps=50)"
   ]
  }
 ],
 "metadata": {
  "kernelspec": {
   "display_name": "Python 3",
   "language": "python",
   "name": "python3"
  },
  "language_info": {
   "codemirror_mode": {
    "name": "ipython",
    "version": 3
   },
   "file_extension": ".py",
   "mimetype": "text/x-python",
   "name": "python",
   "nbconvert_exporter": "python",
   "pygments_lexer": "ipython3",
   "version": "3.6.1"
  }
 },
 "nbformat": 4,
 "nbformat_minor": 2
}
